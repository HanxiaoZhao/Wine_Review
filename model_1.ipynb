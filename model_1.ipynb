{
 "cells": [
  {
   "cell_type": "code",
   "execution_count": 1,
   "metadata": {},
   "outputs": [],
   "source": [
    "import pandas as pd\n",
    "import numpy as np\n",
    "import matplotlib.pyplot as plt\n",
    "import seaborn as sns\n",
    "import warnings\n",
    "\n",
    "from sklearn.ensemble import RandomForestClassifier\n",
    "from sklearn.model_selection import cross_val_score, train_test_split\n",
    "from sklearn.metrics import accuracy_score, confusion_matrix, classification_report\n",
    "from imblearn.over_sampling import SMOTE\n",
    "\n",
    "warnings.filterwarnings('ignore', message='numpy.dtype size changed')"
   ]
  },
  {
   "cell_type": "code",
   "execution_count": 2,
   "metadata": {
    "scrolled": true
   },
   "outputs": [
    {
     "data": {
      "text/html": [
       "<div>\n",
       "<style scoped>\n",
       "    .dataframe tbody tr th:only-of-type {\n",
       "        vertical-align: middle;\n",
       "    }\n",
       "\n",
       "    .dataframe tbody tr th {\n",
       "        vertical-align: top;\n",
       "    }\n",
       "\n",
       "    .dataframe thead th {\n",
       "        text-align: right;\n",
       "    }\n",
       "</style>\n",
       "<table border=\"1\" class=\"dataframe\">\n",
       "  <thead>\n",
       "    <tr style=\"text-align: right;\">\n",
       "      <th></th>\n",
       "      <th>country</th>\n",
       "      <th>designation</th>\n",
       "      <th>points</th>\n",
       "      <th>price</th>\n",
       "      <th>province</th>\n",
       "      <th>region_1</th>\n",
       "      <th>region_2</th>\n",
       "      <th>variety</th>\n",
       "      <th>winery</th>\n",
       "      <th>region</th>\n",
       "    </tr>\n",
       "  </thead>\n",
       "  <tbody>\n",
       "    <tr>\n",
       "      <th>0</th>\n",
       "      <td>0</td>\n",
       "      <td>0.0</td>\n",
       "      <td>8.111582</td>\n",
       "      <td>3.0</td>\n",
       "      <td>0</td>\n",
       "      <td>Napa Valley</td>\n",
       "      <td>Napa</td>\n",
       "      <td>0</td>\n",
       "      <td>0</td>\n",
       "      <td>0</td>\n",
       "    </tr>\n",
       "    <tr>\n",
       "      <th>1</th>\n",
       "      <td>1</td>\n",
       "      <td>1.0</td>\n",
       "      <td>8.111582</td>\n",
       "      <td>2.0</td>\n",
       "      <td>1</td>\n",
       "      <td>Toro</td>\n",
       "      <td>NaN</td>\n",
       "      <td>1</td>\n",
       "      <td>1</td>\n",
       "      <td>1</td>\n",
       "    </tr>\n",
       "    <tr>\n",
       "      <th>2</th>\n",
       "      <td>0</td>\n",
       "      <td>2.0</td>\n",
       "      <td>8.111582</td>\n",
       "      <td>1.0</td>\n",
       "      <td>0</td>\n",
       "      <td>Knights Valley</td>\n",
       "      <td>Sonoma</td>\n",
       "      <td>2</td>\n",
       "      <td>2</td>\n",
       "      <td>2</td>\n",
       "    </tr>\n",
       "    <tr>\n",
       "      <th>3</th>\n",
       "      <td>0</td>\n",
       "      <td>3.0</td>\n",
       "      <td>8.111582</td>\n",
       "      <td>1.0</td>\n",
       "      <td>2</td>\n",
       "      <td>Willamette Valley</td>\n",
       "      <td>Willamette Valley</td>\n",
       "      <td>3</td>\n",
       "      <td>3</td>\n",
       "      <td>3</td>\n",
       "    </tr>\n",
       "    <tr>\n",
       "      <th>4</th>\n",
       "      <td>2</td>\n",
       "      <td>4.0</td>\n",
       "      <td>7.111582</td>\n",
       "      <td>1.0</td>\n",
       "      <td>3</td>\n",
       "      <td>Bandol</td>\n",
       "      <td>NaN</td>\n",
       "      <td>4</td>\n",
       "      <td>4</td>\n",
       "      <td>4</td>\n",
       "    </tr>\n",
       "  </tbody>\n",
       "</table>\n",
       "</div>"
      ],
      "text/plain": [
       "   country  designation    points  price  province           region_1  \\\n",
       "0        0          0.0  8.111582    3.0         0        Napa Valley   \n",
       "1        1          1.0  8.111582    2.0         1               Toro   \n",
       "2        0          2.0  8.111582    1.0         0     Knights Valley   \n",
       "3        0          3.0  8.111582    1.0         2  Willamette Valley   \n",
       "4        2          4.0  7.111582    1.0         3             Bandol   \n",
       "\n",
       "            region_2  variety  winery  region  \n",
       "0               Napa        0       0       0  \n",
       "1                NaN        1       1       1  \n",
       "2             Sonoma        2       2       2  \n",
       "3  Willamette Valley        3       3       3  \n",
       "4                NaN        4       4       4  "
      ]
     },
     "execution_count": 2,
     "metadata": {},
     "output_type": "execute_result"
    }
   ],
   "source": [
    "raw = pd.read_csv('wine_vector.csv')\n",
    "review = raw.copy(deep=True).drop(columns = ['Unnamed: 0'])\n",
    "review.head()"
   ]
  },
  {
   "cell_type": "code",
   "execution_count": 3,
   "metadata": {
    "scrolled": false
   },
   "outputs": [
    {
     "name": "stdout",
     "output_type": "stream",
     "text": [
      "[-7.888418472139406, -6.888418472139406, -5.888418472139406, -4.888418472139406, -3.8884184721394064, -2.8884184721394064, -1.8884184721394064, -0.8884184721394064, 0.1115815278605936, 1.1115815278605936, 2.1115815278605936, 3.1115815278605936, 4.111581527860594, 5.111581527860594, 6.111581527860594, 7.111581527860594, 8.111581527860594, 9.111581527860594, 10.111581527860594, 11.111581527860594, 12.111581527860595]\n"
     ]
    },
    {
     "data": {
      "text/plain": [
       "21"
      ]
     },
     "execution_count": 3,
     "metadata": {},
     "output_type": "execute_result"
    }
   ],
   "source": [
    "srt = sorted(review['points'].unique())\n",
    "print(srt)\n",
    "len(srt)"
   ]
  },
  {
   "cell_type": "code",
   "execution_count": 4,
   "metadata": {
    "scrolled": true
   },
   "outputs": [
    {
     "data": {
      "text/html": [
       "<div>\n",
       "<style scoped>\n",
       "    .dataframe tbody tr th:only-of-type {\n",
       "        vertical-align: middle;\n",
       "    }\n",
       "\n",
       "    .dataframe tbody tr th {\n",
       "        vertical-align: top;\n",
       "    }\n",
       "\n",
       "    .dataframe thead th {\n",
       "        text-align: right;\n",
       "    }\n",
       "</style>\n",
       "<table border=\"1\" class=\"dataframe\">\n",
       "  <thead>\n",
       "    <tr style=\"text-align: right;\">\n",
       "      <th></th>\n",
       "      <th>country</th>\n",
       "      <th>designation</th>\n",
       "      <th>points</th>\n",
       "      <th>price</th>\n",
       "      <th>province</th>\n",
       "      <th>region_1</th>\n",
       "      <th>region_2</th>\n",
       "      <th>variety</th>\n",
       "      <th>winery</th>\n",
       "      <th>region</th>\n",
       "    </tr>\n",
       "  </thead>\n",
       "  <tbody>\n",
       "    <tr>\n",
       "      <th>0</th>\n",
       "      <td>0</td>\n",
       "      <td>0.0</td>\n",
       "      <td>10.0</td>\n",
       "      <td>3.0</td>\n",
       "      <td>0</td>\n",
       "      <td>Napa Valley</td>\n",
       "      <td>Napa</td>\n",
       "      <td>0</td>\n",
       "      <td>0</td>\n",
       "      <td>0</td>\n",
       "    </tr>\n",
       "    <tr>\n",
       "      <th>1</th>\n",
       "      <td>1</td>\n",
       "      <td>1.0</td>\n",
       "      <td>10.0</td>\n",
       "      <td>2.0</td>\n",
       "      <td>1</td>\n",
       "      <td>Toro</td>\n",
       "      <td>NaN</td>\n",
       "      <td>1</td>\n",
       "      <td>1</td>\n",
       "      <td>1</td>\n",
       "    </tr>\n",
       "    <tr>\n",
       "      <th>2</th>\n",
       "      <td>0</td>\n",
       "      <td>2.0</td>\n",
       "      <td>10.0</td>\n",
       "      <td>1.0</td>\n",
       "      <td>0</td>\n",
       "      <td>Knights Valley</td>\n",
       "      <td>Sonoma</td>\n",
       "      <td>2</td>\n",
       "      <td>2</td>\n",
       "      <td>2</td>\n",
       "    </tr>\n",
       "    <tr>\n",
       "      <th>3</th>\n",
       "      <td>0</td>\n",
       "      <td>3.0</td>\n",
       "      <td>10.0</td>\n",
       "      <td>1.0</td>\n",
       "      <td>2</td>\n",
       "      <td>Willamette Valley</td>\n",
       "      <td>Willamette Valley</td>\n",
       "      <td>3</td>\n",
       "      <td>3</td>\n",
       "      <td>3</td>\n",
       "    </tr>\n",
       "    <tr>\n",
       "      <th>4</th>\n",
       "      <td>2</td>\n",
       "      <td>4.0</td>\n",
       "      <td>20.0</td>\n",
       "      <td>1.0</td>\n",
       "      <td>3</td>\n",
       "      <td>Bandol</td>\n",
       "      <td>NaN</td>\n",
       "      <td>4</td>\n",
       "      <td>4</td>\n",
       "      <td>4</td>\n",
       "    </tr>\n",
       "  </tbody>\n",
       "</table>\n",
       "</div>"
      ],
      "text/plain": [
       "   country  designation  points  price  province           region_1  \\\n",
       "0        0          0.0    10.0    3.0         0        Napa Valley   \n",
       "1        1          1.0    10.0    2.0         1               Toro   \n",
       "2        0          2.0    10.0    1.0         0     Knights Valley   \n",
       "3        0          3.0    10.0    1.0         2  Willamette Valley   \n",
       "4        2          4.0    20.0    1.0         3             Bandol   \n",
       "\n",
       "            region_2  variety  winery  region  \n",
       "0               Napa        0       0       0  \n",
       "1                NaN        1       1       1  \n",
       "2             Sonoma        2       2       2  \n",
       "3  Willamette Valley        3       3       3  \n",
       "4                NaN        4       4       4  "
      ]
     },
     "execution_count": 4,
     "metadata": {},
     "output_type": "execute_result"
    }
   ],
   "source": [
    "review.loc[(review['points'] > -8) & (review['points'] <= -4), 'points'] = 50\n",
    "review.loc[(review['points'] > -4) & (review['points'] <= 0), 'points'] = 40\n",
    "review.loc[(review['points'] > 0) & (review['points'] <= 4), 'points'] = 30\n",
    "review.loc[(review['points'] > 4) & (review['points'] <= 8), 'points'] = 20\n",
    "review.loc[(review['points'] > 8) & (review['points'] <= 13), 'points'] = 10\n",
    "review.head()"
   ]
  },
  {
   "cell_type": "code",
   "execution_count": 5,
   "metadata": {},
   "outputs": [
    {
     "data": {
      "text/plain": [
       "array([10., 20., 30., 40., 50.])"
      ]
     },
     "execution_count": 5,
     "metadata": {},
     "output_type": "execute_result"
    }
   ],
   "source": [
    "review.points.unique()"
   ]
  },
  {
   "cell_type": "code",
   "execution_count": 6,
   "metadata": {},
   "outputs": [
    {
     "data": {
      "text/html": [
       "<div>\n",
       "<style scoped>\n",
       "    .dataframe tbody tr th:only-of-type {\n",
       "        vertical-align: middle;\n",
       "    }\n",
       "\n",
       "    .dataframe tbody tr th {\n",
       "        vertical-align: top;\n",
       "    }\n",
       "\n",
       "    .dataframe thead th {\n",
       "        text-align: right;\n",
       "    }\n",
       "</style>\n",
       "<table border=\"1\" class=\"dataframe\">\n",
       "  <thead>\n",
       "    <tr style=\"text-align: right;\">\n",
       "      <th></th>\n",
       "      <th>country</th>\n",
       "      <th>designation</th>\n",
       "      <th>points</th>\n",
       "      <th>price</th>\n",
       "      <th>province</th>\n",
       "      <th>variety</th>\n",
       "      <th>winery</th>\n",
       "      <th>region</th>\n",
       "    </tr>\n",
       "  </thead>\n",
       "  <tbody>\n",
       "    <tr>\n",
       "      <th>0</th>\n",
       "      <td>0</td>\n",
       "      <td>0.0</td>\n",
       "      <td>10.0</td>\n",
       "      <td>3.0</td>\n",
       "      <td>0</td>\n",
       "      <td>0</td>\n",
       "      <td>0</td>\n",
       "      <td>0</td>\n",
       "    </tr>\n",
       "    <tr>\n",
       "      <th>1</th>\n",
       "      <td>1</td>\n",
       "      <td>1.0</td>\n",
       "      <td>10.0</td>\n",
       "      <td>2.0</td>\n",
       "      <td>1</td>\n",
       "      <td>1</td>\n",
       "      <td>1</td>\n",
       "      <td>1</td>\n",
       "    </tr>\n",
       "    <tr>\n",
       "      <th>2</th>\n",
       "      <td>0</td>\n",
       "      <td>2.0</td>\n",
       "      <td>10.0</td>\n",
       "      <td>1.0</td>\n",
       "      <td>0</td>\n",
       "      <td>2</td>\n",
       "      <td>2</td>\n",
       "      <td>2</td>\n",
       "    </tr>\n",
       "    <tr>\n",
       "      <th>3</th>\n",
       "      <td>0</td>\n",
       "      <td>3.0</td>\n",
       "      <td>10.0</td>\n",
       "      <td>1.0</td>\n",
       "      <td>2</td>\n",
       "      <td>3</td>\n",
       "      <td>3</td>\n",
       "      <td>3</td>\n",
       "    </tr>\n",
       "    <tr>\n",
       "      <th>4</th>\n",
       "      <td>2</td>\n",
       "      <td>4.0</td>\n",
       "      <td>20.0</td>\n",
       "      <td>1.0</td>\n",
       "      <td>3</td>\n",
       "      <td>4</td>\n",
       "      <td>4</td>\n",
       "      <td>4</td>\n",
       "    </tr>\n",
       "  </tbody>\n",
       "</table>\n",
       "</div>"
      ],
      "text/plain": [
       "   country  designation  points  price  province  variety  winery  region\n",
       "0        0          0.0    10.0    3.0         0        0       0       0\n",
       "1        1          1.0    10.0    2.0         1        1       1       1\n",
       "2        0          2.0    10.0    1.0         0        2       2       2\n",
       "3        0          3.0    10.0    1.0         2        3       3       3\n",
       "4        2          4.0    20.0    1.0         3        4       4       4"
      ]
     },
     "execution_count": 6,
     "metadata": {},
     "output_type": "execute_result"
    }
   ],
   "source": [
    "review = review.drop(['region_1', 'region_2'], axis=1)\n",
    "review.head()"
   ]
  },
  {
   "cell_type": "code",
   "execution_count": 7,
   "metadata": {},
   "outputs": [
    {
     "data": {
      "text/plain": [
       "['country', 'designation', 'price', 'province', 'variety', 'winery', 'region']"
      ]
     },
     "execution_count": 7,
     "metadata": {},
     "output_type": "execute_result"
    }
   ],
   "source": [
    "metrics = list(review.columns)\n",
    "metrics.remove('points')\n",
    "metrics"
   ]
  },
  {
   "cell_type": "code",
   "execution_count": 8,
   "metadata": {},
   "outputs": [
    {
     "data": {
      "text/html": [
       "<div>\n",
       "<style scoped>\n",
       "    .dataframe tbody tr th:only-of-type {\n",
       "        vertical-align: middle;\n",
       "    }\n",
       "\n",
       "    .dataframe tbody tr th {\n",
       "        vertical-align: top;\n",
       "    }\n",
       "\n",
       "    .dataframe thead th {\n",
       "        text-align: right;\n",
       "    }\n",
       "</style>\n",
       "<table border=\"1\" class=\"dataframe\">\n",
       "  <thead>\n",
       "    <tr style=\"text-align: right;\">\n",
       "      <th></th>\n",
       "      <th>country</th>\n",
       "      <th>designation</th>\n",
       "      <th>points</th>\n",
       "      <th>price</th>\n",
       "      <th>province</th>\n",
       "      <th>variety</th>\n",
       "      <th>winery</th>\n",
       "      <th>region</th>\n",
       "    </tr>\n",
       "  </thead>\n",
       "  <tbody>\n",
       "    <tr>\n",
       "      <th>0</th>\n",
       "      <td>-0.763199</td>\n",
       "      <td>-0.828015</td>\n",
       "      <td>10.0</td>\n",
       "      <td>4.837673</td>\n",
       "      <td>-0.551419</td>\n",
       "      <td>-0.610443</td>\n",
       "      <td>-1.310844</td>\n",
       "      <td>-0.799095</td>\n",
       "    </tr>\n",
       "    <tr>\n",
       "      <th>1</th>\n",
       "      <td>-0.264075</td>\n",
       "      <td>-0.827900</td>\n",
       "      <td>10.0</td>\n",
       "      <td>2.478687</td>\n",
       "      <td>-0.519664</td>\n",
       "      <td>-0.594970</td>\n",
       "      <td>-1.310533</td>\n",
       "      <td>-0.794537</td>\n",
       "    </tr>\n",
       "    <tr>\n",
       "      <th>2</th>\n",
       "      <td>-0.763199</td>\n",
       "      <td>-0.827784</td>\n",
       "      <td>10.0</td>\n",
       "      <td>0.119702</td>\n",
       "      <td>-0.551419</td>\n",
       "      <td>-0.579498</td>\n",
       "      <td>-1.310222</td>\n",
       "      <td>-0.789978</td>\n",
       "    </tr>\n",
       "    <tr>\n",
       "      <th>3</th>\n",
       "      <td>-0.763199</td>\n",
       "      <td>-0.827669</td>\n",
       "      <td>10.0</td>\n",
       "      <td>0.119702</td>\n",
       "      <td>-0.487908</td>\n",
       "      <td>-0.564026</td>\n",
       "      <td>-1.309911</td>\n",
       "      <td>-0.785420</td>\n",
       "    </tr>\n",
       "    <tr>\n",
       "      <th>4</th>\n",
       "      <td>0.235049</td>\n",
       "      <td>-0.827554</td>\n",
       "      <td>20.0</td>\n",
       "      <td>0.119702</td>\n",
       "      <td>-0.456152</td>\n",
       "      <td>-0.548554</td>\n",
       "      <td>-1.309600</td>\n",
       "      <td>-0.780862</td>\n",
       "    </tr>\n",
       "  </tbody>\n",
       "</table>\n",
       "</div>"
      ],
      "text/plain": [
       "    country  designation  points     price  province   variety    winery  \\\n",
       "0 -0.763199    -0.828015    10.0  4.837673 -0.551419 -0.610443 -1.310844   \n",
       "1 -0.264075    -0.827900    10.0  2.478687 -0.519664 -0.594970 -1.310533   \n",
       "2 -0.763199    -0.827784    10.0  0.119702 -0.551419 -0.579498 -1.310222   \n",
       "3 -0.763199    -0.827669    10.0  0.119702 -0.487908 -0.564026 -1.309911   \n",
       "4  0.235049    -0.827554    20.0  0.119702 -0.456152 -0.548554 -1.309600   \n",
       "\n",
       "     region  \n",
       "0 -0.799095  \n",
       "1 -0.794537  \n",
       "2 -0.789978  \n",
       "3 -0.785420  \n",
       "4 -0.780862  "
      ]
     },
     "execution_count": 8,
     "metadata": {},
     "output_type": "execute_result"
    }
   ],
   "source": [
    "# standardize data\n",
    "def standardize(raw_data):\n",
    "    return ((raw_data - np.mean(raw_data, axis=0)) / np.std(raw_data, axis=0))\n",
    "review[metrics] = standardize(review[metrics])\n",
    "review.head()"
   ]
  },
  {
   "cell_type": "code",
   "execution_count": 9,
   "metadata": {},
   "outputs": [
    {
     "name": "stdout",
     "output_type": "stream",
     "text": [
      "train/test set: 195105 25174\n"
     ]
    }
   ],
   "source": [
    "features = review[metrics]\n",
    "label = review['points']\n",
    "\n",
    "smt = SMOTE(random_state=20)\n",
    "    \n",
    "X_train, X_test, Y_train, Y_test = train_test_split(features, label, \n",
    "                                                    test_size=0.20, \n",
    "                                                    random_state=0)\n",
    "X_train, Y_train = smt.fit_sample(X_train, Y_train)\n",
    "print('train/test set:', len(X_train), len(X_test))"
   ]
  },
  {
   "cell_type": "code",
   "execution_count": 10,
   "metadata": {},
   "outputs": [
    {
     "name": "stdout",
     "output_type": "stream",
     "text": [
      "CVS: 0.8247522184895557\n"
     ]
    }
   ],
   "source": [
    "forest = RandomForestClassifier(n_estimators=40, \n",
    "                                random_state=0, \n",
    "                                max_depth=30, \n",
    "                                criterion='entropy')\n",
    "print('CVS:', np.mean(cross_val_score(forest, X_train, Y_train, cv=10)))"
   ]
  },
  {
   "cell_type": "code",
   "execution_count": 11,
   "metadata": {},
   "outputs": [
    {
     "name": "stdout",
     "output_type": "stream",
     "text": [
      "ACC: 0.7048939381901962\n",
      "Confusion Matrix:\n",
      " [[ 179   72   17    3    2]\n",
      " [ 123 2462  789  267   49]\n",
      " [  39 1020 6625 1476  252]\n",
      " [  18  301 1558 7158  701]\n",
      " [   3   25  171  543 1321]]\n",
      "Overall Report:\n",
      "               precision    recall  f1-score   support\n",
      "\n",
      "        10.0       0.49      0.66      0.56       273\n",
      "        20.0       0.63      0.67      0.65      3690\n",
      "        30.0       0.72      0.70      0.71      9412\n",
      "        40.0       0.76      0.74      0.75      9736\n",
      "        50.0       0.57      0.64      0.60      2063\n",
      "\n",
      "   micro avg       0.70      0.70      0.70     25174\n",
      "   macro avg       0.64      0.68      0.66     25174\n",
      "weighted avg       0.71      0.70      0.71     25174\n",
      "\n"
     ]
    },
    {
     "data": {
      "image/png": "[encoded data removed]",
      "text/plain": [
       "<Figure size 432x288 with 2 Axes>"
      ]
     },
     "metadata": {
      "needs_background": "light"
     },
     "output_type": "display_data"
    }
   ],
   "source": [
    "forest.fit(X_train, Y_train)\n",
    "Y_test_predict = forest.predict(X_test)\n",
    "print('ACC:', accuracy_score(Y_test, Y_test_predict))\n",
    "print('Confusion Matrix:\\n', confusion_matrix(Y_test, Y_test_predict))\n",
    "mat = confusion_matrix(Y_test, Y_test_predict)\n",
    "sns.heatmap(mat, square=True, annot=True, cmap='Blues')\n",
    "plt.xlabel('Predict Value')\n",
    "plt.ylabel('True Value')\n",
    "plt.title('Confusion Matrix')\n",
    "print('Overall Report:\\n', classification_report(Y_test, Y_test_predict))"
   ]
  }
 ],
 "metadata": {
  "kernelspec": {
   "display_name": "Python 3",
   "language": "python",
   "name": "python3"
  },
  "language_info": {
   "codemirror_mode": {
    "name": "ipython",
    "version": 3
   },
   "file_extension": ".py",
   "mimetype": "text/x-python",
   "name": "python",
   "nbconvert_exporter": "python",
   "pygments_lexer": "ipython3",
   "version": "3.6.7"
  }
 },
 "nbformat": 4,
 "nbformat_minor": 2
}
