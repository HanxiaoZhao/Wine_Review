{
 "cells": [
  {
   "cell_type": "code",
   "execution_count": 1,
   "metadata": {},
   "outputs": [],
   "source": [
    "import pandas as pd\n",
    "import numpy as np\n",
    "import matplotlib.pyplot as plt\n",
    "import seaborn as sns\n",
    "import warnings\n",
    "\n",
    "from sklearn.ensemble import RandomForestClassifier\n",
    "from sklearn.model_selection import cross_val_score, train_test_split\n",
    "from sklearn.metrics import accuracy_score, confusion_matrix, classification_report\n",
    "from imblearn.over_sampling import SMOTE\n",
    "\n",
    "warnings.filterwarnings('ignore', message='numpy.dtype size changed')"
   ]
  },
  {
   "cell_type": "code",
   "execution_count": 2,
   "metadata": {},
   "outputs": [
    {
     "data": {
      "text/html": [
       "<div>\n",
       "<style scoped>\n",
       "    .dataframe tbody tr th:only-of-type {\n",
       "        vertical-align: middle;\n",
       "    }\n",
       "\n",
       "    .dataframe tbody tr th {\n",
       "        vertical-align: top;\n",
       "    }\n",
       "\n",
       "    .dataframe thead th {\n",
       "        text-align: right;\n",
       "    }\n",
       "</style>\n",
       "<table border=\"1\" class=\"dataframe\">\n",
       "  <thead>\n",
       "    <tr style=\"text-align: right;\">\n",
       "      <th></th>\n",
       "      <th>country</th>\n",
       "      <th>designation</th>\n",
       "      <th>points</th>\n",
       "      <th>price</th>\n",
       "      <th>province</th>\n",
       "      <th>region_1</th>\n",
       "      <th>region_2</th>\n",
       "      <th>variety</th>\n",
       "      <th>winery</th>\n",
       "      <th>region</th>\n",
       "    </tr>\n",
       "  </thead>\n",
       "  <tbody>\n",
       "    <tr>\n",
       "      <th>0</th>\n",
       "      <td>0</td>\n",
       "      <td>0.0</td>\n",
       "      <td>2</td>\n",
       "      <td>3.0</td>\n",
       "      <td>California</td>\n",
       "      <td>Napa Valley</td>\n",
       "      <td>Napa</td>\n",
       "      <td>0</td>\n",
       "      <td>0</td>\n",
       "      <td>0</td>\n",
       "    </tr>\n",
       "    <tr>\n",
       "      <th>1</th>\n",
       "      <td>1</td>\n",
       "      <td>1.0</td>\n",
       "      <td>2</td>\n",
       "      <td>2.0</td>\n",
       "      <td>Northern Spain</td>\n",
       "      <td>Toro</td>\n",
       "      <td>NaN</td>\n",
       "      <td>1</td>\n",
       "      <td>1</td>\n",
       "      <td>1</td>\n",
       "    </tr>\n",
       "    <tr>\n",
       "      <th>2</th>\n",
       "      <td>0</td>\n",
       "      <td>2.0</td>\n",
       "      <td>2</td>\n",
       "      <td>1.0</td>\n",
       "      <td>California</td>\n",
       "      <td>Knights Valley</td>\n",
       "      <td>Sonoma</td>\n",
       "      <td>2</td>\n",
       "      <td>2</td>\n",
       "      <td>2</td>\n",
       "    </tr>\n",
       "    <tr>\n",
       "      <th>3</th>\n",
       "      <td>0</td>\n",
       "      <td>3.0</td>\n",
       "      <td>2</td>\n",
       "      <td>1.0</td>\n",
       "      <td>Oregon</td>\n",
       "      <td>Willamette Valley</td>\n",
       "      <td>Willamette Valley</td>\n",
       "      <td>3</td>\n",
       "      <td>3</td>\n",
       "      <td>3</td>\n",
       "    </tr>\n",
       "    <tr>\n",
       "      <th>4</th>\n",
       "      <td>2</td>\n",
       "      <td>4.0</td>\n",
       "      <td>2</td>\n",
       "      <td>1.0</td>\n",
       "      <td>Provence</td>\n",
       "      <td>Bandol</td>\n",
       "      <td>NaN</td>\n",
       "      <td>4</td>\n",
       "      <td>4</td>\n",
       "      <td>4</td>\n",
       "    </tr>\n",
       "  </tbody>\n",
       "</table>\n",
       "</div>"
      ],
      "text/plain": [
       "   country  designation  points  price        province           region_1  \\\n",
       "0        0          0.0       2    3.0      California        Napa Valley   \n",
       "1        1          1.0       2    2.0  Northern Spain               Toro   \n",
       "2        0          2.0       2    1.0      California     Knights Valley   \n",
       "3        0          3.0       2    1.0          Oregon  Willamette Valley   \n",
       "4        2          4.0       2    1.0        Provence             Bandol   \n",
       "\n",
       "            region_2  variety  winery  region  \n",
       "0               Napa        0       0       0  \n",
       "1                NaN        1       1       1  \n",
       "2             Sonoma        2       2       2  \n",
       "3  Willamette Valley        3       3       3  \n",
       "4                NaN        4       4       4  "
      ]
     },
     "execution_count": 2,
     "metadata": {},
     "output_type": "execute_result"
    }
   ],
   "source": [
    "raw = pd.read_csv('wine_vector_2.csv')\n",
    "review = raw.copy(deep=True).drop(columns = ['Unnamed: 0'])\n",
    "review.head()"
   ]
  },
  {
   "cell_type": "code",
   "execution_count": 3,
   "metadata": {},
   "outputs": [
    {
     "data": {
      "text/html": [
       "<div>\n",
       "<style scoped>\n",
       "    .dataframe tbody tr th:only-of-type {\n",
       "        vertical-align: middle;\n",
       "    }\n",
       "\n",
       "    .dataframe tbody tr th {\n",
       "        vertical-align: top;\n",
       "    }\n",
       "\n",
       "    .dataframe thead th {\n",
       "        text-align: right;\n",
       "    }\n",
       "</style>\n",
       "<table border=\"1\" class=\"dataframe\">\n",
       "  <thead>\n",
       "    <tr style=\"text-align: right;\">\n",
       "      <th></th>\n",
       "      <th>country</th>\n",
       "      <th>designation</th>\n",
       "      <th>points</th>\n",
       "      <th>price</th>\n",
       "      <th>variety</th>\n",
       "      <th>winery</th>\n",
       "      <th>region</th>\n",
       "    </tr>\n",
       "  </thead>\n",
       "  <tbody>\n",
       "    <tr>\n",
       "      <th>0</th>\n",
       "      <td>0</td>\n",
       "      <td>0.0</td>\n",
       "      <td>2</td>\n",
       "      <td>3.0</td>\n",
       "      <td>0</td>\n",
       "      <td>0</td>\n",
       "      <td>0</td>\n",
       "    </tr>\n",
       "    <tr>\n",
       "      <th>1</th>\n",
       "      <td>1</td>\n",
       "      <td>1.0</td>\n",
       "      <td>2</td>\n",
       "      <td>2.0</td>\n",
       "      <td>1</td>\n",
       "      <td>1</td>\n",
       "      <td>1</td>\n",
       "    </tr>\n",
       "    <tr>\n",
       "      <th>2</th>\n",
       "      <td>0</td>\n",
       "      <td>2.0</td>\n",
       "      <td>2</td>\n",
       "      <td>1.0</td>\n",
       "      <td>2</td>\n",
       "      <td>2</td>\n",
       "      <td>2</td>\n",
       "    </tr>\n",
       "    <tr>\n",
       "      <th>3</th>\n",
       "      <td>0</td>\n",
       "      <td>3.0</td>\n",
       "      <td>2</td>\n",
       "      <td>1.0</td>\n",
       "      <td>3</td>\n",
       "      <td>3</td>\n",
       "      <td>3</td>\n",
       "    </tr>\n",
       "    <tr>\n",
       "      <th>4</th>\n",
       "      <td>2</td>\n",
       "      <td>4.0</td>\n",
       "      <td>2</td>\n",
       "      <td>1.0</td>\n",
       "      <td>4</td>\n",
       "      <td>4</td>\n",
       "      <td>4</td>\n",
       "    </tr>\n",
       "  </tbody>\n",
       "</table>\n",
       "</div>"
      ],
      "text/plain": [
       "   country  designation  points  price  variety  winery  region\n",
       "0        0          0.0       2    3.0        0       0       0\n",
       "1        1          1.0       2    2.0        1       1       1\n",
       "2        0          2.0       2    1.0        2       2       2\n",
       "3        0          3.0       2    1.0        3       3       3\n",
       "4        2          4.0       2    1.0        4       4       4"
      ]
     },
     "execution_count": 3,
     "metadata": {},
     "output_type": "execute_result"
    }
   ],
   "source": [
    "review = review.drop(['province', 'region_1', 'region_2'], axis=1)\n",
    "review.head()"
   ]
  },
  {
   "cell_type": "code",
   "execution_count": 4,
   "metadata": {},
   "outputs": [
    {
     "data": {
      "text/plain": [
       "['country', 'designation', 'price', 'variety', 'winery', 'region']"
      ]
     },
     "execution_count": 4,
     "metadata": {},
     "output_type": "execute_result"
    }
   ],
   "source": [
    "metrics = list(review.columns)\n",
    "metrics.remove('points')\n",
    "metrics"
   ]
  },
  {
   "cell_type": "code",
   "execution_count": 5,
   "metadata": {},
   "outputs": [
    {
     "data": {
      "text/html": [
       "<div>\n",
       "<style scoped>\n",
       "    .dataframe tbody tr th:only-of-type {\n",
       "        vertical-align: middle;\n",
       "    }\n",
       "\n",
       "    .dataframe tbody tr th {\n",
       "        vertical-align: top;\n",
       "    }\n",
       "\n",
       "    .dataframe thead th {\n",
       "        text-align: right;\n",
       "    }\n",
       "</style>\n",
       "<table border=\"1\" class=\"dataframe\">\n",
       "  <thead>\n",
       "    <tr style=\"text-align: right;\">\n",
       "      <th></th>\n",
       "      <th>country</th>\n",
       "      <th>designation</th>\n",
       "      <th>points</th>\n",
       "      <th>price</th>\n",
       "      <th>variety</th>\n",
       "      <th>winery</th>\n",
       "      <th>region</th>\n",
       "    </tr>\n",
       "  </thead>\n",
       "  <tbody>\n",
       "    <tr>\n",
       "      <th>0</th>\n",
       "      <td>-0.680918</td>\n",
       "      <td>-0.844725</td>\n",
       "      <td>2</td>\n",
       "      <td>4.943627</td>\n",
       "      <td>-0.569715</td>\n",
       "      <td>-1.307175</td>\n",
       "      <td>-0.825488</td>\n",
       "    </tr>\n",
       "    <tr>\n",
       "      <th>1</th>\n",
       "      <td>-0.465540</td>\n",
       "      <td>-0.844611</td>\n",
       "      <td>2</td>\n",
       "      <td>2.536439</td>\n",
       "      <td>-0.558069</td>\n",
       "      <td>-1.306907</td>\n",
       "      <td>-0.822071</td>\n",
       "    </tr>\n",
       "    <tr>\n",
       "      <th>2</th>\n",
       "      <td>-0.680918</td>\n",
       "      <td>-0.844496</td>\n",
       "      <td>2</td>\n",
       "      <td>0.129251</td>\n",
       "      <td>-0.546423</td>\n",
       "      <td>-1.306638</td>\n",
       "      <td>-0.818653</td>\n",
       "    </tr>\n",
       "    <tr>\n",
       "      <th>3</th>\n",
       "      <td>-0.680918</td>\n",
       "      <td>-0.844382</td>\n",
       "      <td>2</td>\n",
       "      <td>0.129251</td>\n",
       "      <td>-0.534776</td>\n",
       "      <td>-1.306370</td>\n",
       "      <td>-0.815235</td>\n",
       "    </tr>\n",
       "    <tr>\n",
       "      <th>4</th>\n",
       "      <td>-0.250163</td>\n",
       "      <td>-0.844268</td>\n",
       "      <td>2</td>\n",
       "      <td>0.129251</td>\n",
       "      <td>-0.523130</td>\n",
       "      <td>-1.306102</td>\n",
       "      <td>-0.811817</td>\n",
       "    </tr>\n",
       "  </tbody>\n",
       "</table>\n",
       "</div>"
      ],
      "text/plain": [
       "    country  designation  points     price   variety    winery    region\n",
       "0 -0.680918    -0.844725       2  4.943627 -0.569715 -1.307175 -0.825488\n",
       "1 -0.465540    -0.844611       2  2.536439 -0.558069 -1.306907 -0.822071\n",
       "2 -0.680918    -0.844496       2  0.129251 -0.546423 -1.306638 -0.818653\n",
       "3 -0.680918    -0.844382       2  0.129251 -0.534776 -1.306370 -0.815235\n",
       "4 -0.250163    -0.844268       2  0.129251 -0.523130 -1.306102 -0.811817"
      ]
     },
     "execution_count": 5,
     "metadata": {},
     "output_type": "execute_result"
    }
   ],
   "source": [
    "# standardize data\n",
    "def standardize(raw_data):\n",
    "    return ((raw_data - np.mean(raw_data, axis=0)) / np.std(raw_data, axis=0))\n",
    "review[metrics] = standardize(review[metrics])\n",
    "review.head()"
   ]
  },
  {
   "cell_type": "code",
   "execution_count": 6,
   "metadata": {},
   "outputs": [
    {
     "name": "stdout",
     "output_type": "stream",
     "text": [
      "train/test set: 266180 30186\n"
     ]
    }
   ],
   "source": [
    "features = review[metrics]\n",
    "label = review['points']\n",
    "\n",
    "smt = SMOTE(random_state=20)\n",
    "    \n",
    "X_train, X_test, Y_train, Y_test = train_test_split(features, label, \n",
    "                                                    test_size=0.20, \n",
    "                                                    random_state=0)\n",
    "X_train, Y_train = smt.fit_sample(X_train, Y_train)\n",
    "print('train/test set:', len(X_train), len(X_test))"
   ]
  },
  {
   "cell_type": "code",
   "execution_count": 33,
   "metadata": {},
   "outputs": [
    {
     "name": "stdout",
     "output_type": "stream",
     "text": [
      "CVS: 0.839178077416053\n"
     ]
    }
   ],
   "source": [
    "forest = RandomForestClassifier(n_estimators=40, \n",
    "                                random_state=0, \n",
    "                                max_depth=30, \n",
    "                                criterion='entropy')\n",
    "print('CVS:', np.mean(cross_val_score(forest, X_train, Y_train, cv=10)))"
   ]
  },
  {
   "cell_type": "code",
   "execution_count": 32,
   "metadata": {},
   "outputs": [
    {
     "name": "stdout",
     "output_type": "stream",
     "text": [
      "ACC: 0.7151328430398198\n",
      "Confusion Matrix:\n",
      " [[  59   31    5    1    2]\n",
      " [  63 1565  544  182   39]\n",
      " [  25  739 6875 1729  343]\n",
      " [   5  242 1793 9994 1332]\n",
      " [   0   39  322 1163 3094]]\n",
      "Overall Report:\n",
      "               precision    recall  f1-score   support\n",
      "\n",
      "           1       0.39      0.60      0.47        98\n",
      "           2       0.60      0.65      0.62      2393\n",
      "           3       0.72      0.71      0.71      9711\n",
      "           4       0.76      0.75      0.76     13366\n",
      "           5       0.64      0.67      0.66      4618\n",
      "\n",
      "   micro avg       0.72      0.72      0.72     30186\n",
      "   macro avg       0.62      0.68      0.64     30186\n",
      "weighted avg       0.72      0.72      0.72     30186\n",
      "\n"
     ]
    },
    {
     "data": {
      "image/png": "[encoded data removed]",
      "text/plain": [
       "<Figure size 432x288 with 2 Axes>"
      ]
     },
     "metadata": {
      "needs_background": "light"
     },
     "output_type": "display_data"
    }
   ],
   "source": [
    "forest.fit(X_train, Y_train)\n",
    "Y_test_predict = forest.predict(X_test)\n",
    "print('ACC:', accuracy_score(Y_test, Y_test_predict))\n",
    "print('Confusion Matrix:\\n', confusion_matrix(Y_test, Y_test_predict))\n",
    "mat = confusion_matrix(Y_test, Y_test_predict)\n",
    "sns.heatmap(mat, square=True, annot=True, cmap='Blues')\n",
    "plt.xlabel('Predict Value')\n",
    "plt.ylabel('True Value')\n",
    "plt.title('Confusion Matrix')\n",
    "print('Overall Report:\\n', classification_report(Y_test, Y_test_predict))"
   ]
  }
 ],
 "metadata": {
  "kernelspec": {
   "display_name": "Python 3",
   "language": "python",
   "name": "python3"
  },
  "language_info": {
   "codemirror_mode": {
    "name": "ipython",
    "version": 3
   },
   "file_extension": ".py",
   "mimetype": "text/x-python",
   "name": "python",
   "nbconvert_exporter": "python",
   "pygments_lexer": "ipython3",
   "version": "3.6.7"
  }
 },
 "nbformat": 4,
 "nbformat_minor": 2
}
